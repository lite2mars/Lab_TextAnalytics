{
 "cells": [
  {
   "cell_type": "code",
   "execution_count": 175,
   "id": "b40b7752",
   "metadata": {
    "scrolled": false
   },
   "outputs": [
    {
     "name": "stdout",
     "output_type": "stream",
     "text": [
      "https://www.amazon.com/Apple-iPhone-12-Pro-Pacific/product-reviews/B09JFN8K6T/?ie=UTF8&reviewerType=all_reviews&pageNumber=1\n",
      "Scraped page 1\n",
      "https://www.amazon.com/Apple-iPhone-12-Pro-Pacific/product-reviews/B09JFN8K6T/?ie=UTF8&reviewerType=all_reviews&pageNumber=2\n",
      "Scraped page 2\n",
      "https://www.amazon.com/Apple-iPhone-12-Pro-Pacific/product-reviews/B09JFN8K6T/?ie=UTF8&reviewerType=all_reviews&pageNumber=3\n",
      "Scraped page 3\n",
      "https://www.amazon.com/Apple-iPhone-12-Pro-Pacific/product-reviews/B09JFN8K6T/?ie=UTF8&reviewerType=all_reviews&pageNumber=4\n",
      "Scraped page 4\n",
      "https://www.amazon.com/Apple-iPhone-12-Pro-Pacific/product-reviews/B09JFN8K6T/?ie=UTF8&reviewerType=all_reviews&pageNumber=5\n",
      "Scraped page 5\n",
      "All reviews scraped and saved to Reviews.csv\n"
     ]
    }
   ],
   "source": [
    "#Student Name:Jonathan Chuah E-Jay\n",
    "#Student ID: SW01082705\n",
    "#Student Name:Nur Zafirah Mohd Zaini\n",
    "#Student ID: SN01081035\n",
    "\n",
    "import requests\n",
    "from bs4 import BeautifulSoup\n",
    "import csv\n",
    "import time\n",
    "\n",
    "custom_headers = {\n",
    "    \"Accept-language\": \"en-GB,en;q=0.9\",\n",
    "    \"Accept-Encoding\": \"gzip, deflate, br\",\n",
    "    \"Cache-Control\": \"max-age=0\",\n",
    "    \"Connection\": \"keep-alive\",\n",
    "    \"User-agent\": \"Mozilla/5.0 (Macintosh; Intel Mac OS X 10_15_7) AppleWebKit/605.1.15 (KHTML, like Gecko) Version/17.1 Safari/605.1.15\",\n",
    "}\n",
    "\n",
    "base_url = \"https://www.amazon.com/Apple-iPhone-12-Pro-Pacific/product-reviews/B09JFN8K6T/?ie=UTF8&reviewerType=all_reviews\"\n",
    "\n",
    "all_reviews = []\n",
    "\n",
    "for page_number in range(1,6):\n",
    "    url = base_url + f\"&pageNumber={page_number}\"\n",
    "    response = requests.get(url, headers=custom_headers)\n",
    "    soup = BeautifulSoup(response.text, 'html.parser')\n",
    "    print(url)\n",
    "    review_elements = soup.select(\"div.review\")\n",
    "    for review in review_elements:\n",
    "        author = review.find('span', class_=\"a-profile-name\").text.strip()\n",
    "        review_date = review.find('span', class_=\"review-date\").text.strip()\n",
    "        content = review.find('span', class_=\"review-text\").text.strip()\n",
    "        all_reviews.append({\"Author\": author, \"Date\": review_date, \"Content\": content})\n",
    "\n",
    "    print(\"Scraped page\", page_number)\n",
    "    \n",
    "with open('Reviews.csv', 'w', newline='', encoding='utf-8') as csvfile:\n",
    "    writer = csv.DictWriter(csvfile, fieldnames=['Author', 'Date', 'Content'])\n",
    "    writer.writeheader()\n",
    "    writer.writerows(all_reviews)\n",
    "\n",
    "print(\"All reviews scraped and saved to Reviews.csv\")\n",
    "\n"
   ]
  },
  {
   "cell_type": "code",
   "execution_count": null,
   "id": "f515fbf7",
   "metadata": {},
   "outputs": [],
   "source": []
  }
 ],
 "metadata": {
  "kernelspec": {
   "display_name": "Python 3 (ipykernel)",
   "language": "python",
   "name": "python3"
  },
  "language_info": {
   "codemirror_mode": {
    "name": "ipython",
    "version": 3
   },
   "file_extension": ".py",
   "mimetype": "text/x-python",
   "name": "python",
   "nbconvert_exporter": "python",
   "pygments_lexer": "ipython3",
   "version": "3.11.5"
  }
 },
 "nbformat": 4,
 "nbformat_minor": 5
}
