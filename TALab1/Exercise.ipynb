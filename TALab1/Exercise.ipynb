{
 "cells": [
  {
   "cell_type": "code",
   "execution_count": 23,
   "id": "bec4442c",
   "metadata": {},
   "outputs": [],
   "source": [
    "import PyPDF2"
   ]
  },
  {
   "cell_type": "code",
   "execution_count": 24,
   "id": "58dd487f",
   "metadata": {
    "scrolled": true
   },
   "outputs": [],
   "source": [
    "f = open('Business_Proposal.pdf','rb')"
   ]
  },
  {
   "cell_type": "code",
   "execution_count": 25,
   "id": "6c4b579c",
   "metadata": {},
   "outputs": [],
   "source": [
    "pdf_reader = PyPDF2.PdfReader(f)"
   ]
  },
  {
   "cell_type": "code",
   "execution_count": 26,
   "id": "def16010",
   "metadata": {},
   "outputs": [
    {
     "data": {
      "text/plain": [
       "2"
      ]
     },
     "execution_count": 26,
     "metadata": {},
     "output_type": "execute_result"
    }
   ],
   "source": [
    "len(pdf_reader.pages)"
   ]
  },
  {
   "cell_type": "code",
   "execution_count": 27,
   "id": "6c2248e0",
   "metadata": {},
   "outputs": [],
   "source": [
    "page_two = pdf_reader.pages[1]"
   ]
  },
  {
   "cell_type": "code",
   "execution_count": 28,
   "id": "382aaf61",
   "metadata": {},
   "outputs": [],
   "source": [
    "page_two_text = page_two.extract_text()"
   ]
  },
  {
   "cell_type": "code",
   "execution_count": 30,
   "id": "ef2316fd",
   "metadata": {
    "scrolled": false
   },
   "outputs": [
    {
     "data": {
      "text/plain": [
       "'Business Proposal  \\nThe Revolution is Coming  \\nLeverage agile frameworks to provide a robust synopsis for high level  \\noverviews. Iterative approaches to corporate strategy foster collaborative  \\nthinking to further the overall value proposition. Organically grow the  \\nholistic world view of disruptive innovation via workplace diversity and  \\nempowerment.  \\nBring to the table win -win survival strategies to ensure proactive  \\ndomination. At the end of the day, going forward, a new normal that has  \\nevolved from generation X is on the runway heading towards a streamlined  \\ncloud solution. User generated content in real -time will have multi ple \\ntouchpoints for offshoring.  \\nCapitalize on low hanging fruit to identify a ballpark value added activity to  \\nbeta test. Override the digital divide with additional clickthroughs from  \\nDevOps. Nanotechnology immersion along the information highway will  \\nclose the loop on focusing solely on the bottom line.  \\nPodcasting operational change management inside of workflows to  \\nestablish a framework. Taking seamless key performance indicators offline  \\nto maximise the long tail. Keeping your eye on the ball while perfo rming a  \\ndeep dive on the start -up mentality to derive convergence on crossplatform  \\nintegration.  \\nCollaboratively administrate empowered markets via plug -and-play \\nnetworks. Dynamically procrastinate B2C users after installed base  \\nbenefits. Dramatically visua lize customer directed convergence without  \\nrevolutionary ROI.  \\nEfficiently unleash cross -media information without cross -media value.  \\nQuickly maximize timely deliverables for real -time schemas. Dramatically  \\nmaintain clicks -and-mortar solutions without funct ional solutio ns. \\n  '"
      ]
     },
     "execution_count": 30,
     "metadata": {},
     "output_type": "execute_result"
    }
   ],
   "source": [
    "page_one_text"
   ]
  }
 ],
 "metadata": {
  "kernelspec": {
   "display_name": "Python 3 (ipykernel)",
   "language": "python",
   "name": "python3"
  },
  "language_info": {
   "codemirror_mode": {
    "name": "ipython",
    "version": 3
   },
   "file_extension": ".py",
   "mimetype": "text/x-python",
   "name": "python",
   "nbconvert_exporter": "python",
   "pygments_lexer": "ipython3",
   "version": "3.11.5"
  }
 },
 "nbformat": 4,
 "nbformat_minor": 5
}
