{
 "cells": [
  {
   "cell_type": "markdown",
   "id": "8acdec43",
   "metadata": {},
   "source": [
    "## 1. Open the text file created earlier:"
   ]
  },
  {
   "cell_type": "code",
   "execution_count": 13,
   "id": "fe26c591",
   "metadata": {},
   "outputs": [],
   "source": [
    "my_file = open('test.txt')"
   ]
  },
  {
   "cell_type": "markdown",
   "id": "5ec6e604",
   "metadata": {},
   "source": [
    "## 2. Read the file:"
   ]
  },
  {
   "cell_type": "code",
   "execution_count": 14,
   "id": "1bd720ea",
   "metadata": {},
   "outputs": [
    {
     "data": {
      "text/plain": [
       "'This is a new first line'"
      ]
     },
     "execution_count": 14,
     "metadata": {},
     "output_type": "execute_result"
    }
   ],
   "source": [
    "my_file.read()"
   ]
  },
  {
   "cell_type": "markdown",
   "id": "1495f3ed",
   "metadata": {},
   "source": [
    "#### No cursor reset:"
   ]
  },
  {
   "cell_type": "code",
   "execution_count": 12,
   "id": "32f5b818",
   "metadata": {},
   "outputs": [
    {
     "data": {
      "text/plain": [
       "''"
      ]
     },
     "execution_count": 12,
     "metadata": {},
     "output_type": "execute_result"
    }
   ],
   "source": [
    "my_file.read()"
   ]
  },
  {
   "cell_type": "markdown",
   "id": "63220216",
   "metadata": {},
   "source": [
    "#### Reset the cursor:"
   ]
  },
  {
   "cell_type": "code",
   "execution_count": 6,
   "id": "70ea8435",
   "metadata": {},
   "outputs": [
    {
     "data": {
      "text/plain": [
       "0"
      ]
     },
     "execution_count": 6,
     "metadata": {},
     "output_type": "execute_result"
    }
   ],
   "source": [
    "my_file.seek(0)"
   ]
  },
  {
   "cell_type": "markdown",
   "id": "a4d33535",
   "metadata": {},
   "source": [
    "#### Try to read again:"
   ]
  },
  {
   "cell_type": "code",
   "execution_count": 7,
   "id": "24db948c",
   "metadata": {},
   "outputs": [
    {
     "data": {
      "text/plain": [
       "'Hello, this is a quick test file.\\nThis is the second line of the file.'"
      ]
     },
     "execution_count": 7,
     "metadata": {},
     "output_type": "execute_result"
    }
   ],
   "source": [
    "my_file.read()"
   ]
  },
  {
   "cell_type": "markdown",
   "id": "16ca4414",
   "metadata": {},
   "source": [
    "# 3. You can read a file line using the readlines method (Note: Use caution with large files, since everything will be held in memory):"
   ]
  },
  {
   "cell_type": "code",
   "execution_count": 8,
   "id": "fc03859b",
   "metadata": {
    "scrolled": true
   },
   "outputs": [
    {
     "data": {
      "text/plain": [
       "['Hello, this is a quick test file.\\n', 'This is the second line of the file.']"
      ]
     },
     "execution_count": 8,
     "metadata": {},
     "output_type": "execute_result"
    }
   ],
   "source": [
    "my_file.seek(0)\n",
    "my_file.readlines()"
   ]
  },
  {
   "cell_type": "markdown",
   "id": "fd8e01f6",
   "metadata": {},
   "source": [
    "# 4. When you have finished using a file, it is always good practice to close it:"
   ]
  },
  {
   "cell_type": "code",
   "execution_count": 9,
   "id": "8abd7647",
   "metadata": {},
   "outputs": [],
   "source": [
    "my_file.close()"
   ]
  },
  {
   "cell_type": "markdown",
   "id": "7e2c8486",
   "metadata": {},
   "source": [
    "# 5. By default, the open() function will only allow us to read the file. We need to pass the argument 'w' to write over the file. For example:\n",
    "\n",
    "(Note: Opening a file with 'w' or 'w+' truncates the original, meaning that anything\n",
    "that was in the original file is deleted)"
   ]
  },
  {
   "cell_type": "code",
   "execution_count": 10,
   "id": "846ea685",
   "metadata": {},
   "outputs": [],
   "source": [
    "my_file = open('test.txt','w+')"
   ]
  },
  {
   "cell_type": "markdown",
   "id": "c3b33ce1",
   "metadata": {},
   "source": [
    "#### Write to the file:"
   ]
  },
  {
   "cell_type": "code",
   "execution_count": 11,
   "id": "43d408ae",
   "metadata": {},
   "outputs": [
    {
     "data": {
      "text/plain": [
       "24"
      ]
     },
     "execution_count": 11,
     "metadata": {},
     "output_type": "execute_result"
    }
   ],
   "source": [
    "my_file.write('This is a new first line')"
   ]
  },
  {
   "cell_type": "code",
   "execution_count": 16,
   "id": "7e895c31",
   "metadata": {},
   "outputs": [
    {
     "data": {
      "text/plain": [
       "['This is a new first line']"
      ]
     },
     "execution_count": 16,
     "metadata": {},
     "output_type": "execute_result"
    }
   ],
   "source": [
    "my_file.seek(0)\n",
    "my_file.readlines()"
   ]
  },
  {
   "cell_type": "code",
   "execution_count": 22,
   "id": "60bada18",
   "metadata": {},
   "outputs": [],
   "source": [
    "my_file.close()"
   ]
  },
  {
   "cell_type": "code",
   "execution_count": 23,
   "id": "beee5fb7",
   "metadata": {},
   "outputs": [
    {
     "data": {
      "text/plain": [
       "23"
      ]
     },
     "execution_count": 23,
     "metadata": {},
     "output_type": "execute_result"
    }
   ],
   "source": [
    "my_file = open('test.txt','a+')\n",
    "my_file.write('\\nThis line is being appended to test.txt')\n",
    "my_file.write('\\nAnd another line here.')"
   ]
  },
  {
   "cell_type": "code",
   "execution_count": 24,
   "id": "df58a063",
   "metadata": {},
   "outputs": [
    {
     "name": "stdout",
     "output_type": "stream",
     "text": [
      "\n",
      "This line is being appended to test.txt\n",
      "And another line here.\n"
     ]
    }
   ],
   "source": [
    "my_file.seek(0)\n",
    "print(my_file.read())"
   ]
  },
  {
   "cell_type": "code",
   "execution_count": 29,
   "id": "24181d09",
   "metadata": {},
   "outputs": [
    {
     "name": "stdout",
     "output_type": "stream",
     "text": [
      "Comments extracted and saved to comments.txt\n"
     ]
    }
   ],
   "source": [
    "import csv\n",
    "# Define the CSV file name\n",
    "csv_file = 'sample_data.csv'\n",
    "\n",
    "# Define the output text file name\n",
    "output_file = 'comments.txt'\n",
    "\n",
    "# Open the CSV file for reading\n",
    "with open(csv_file, 'r', newline='') as csvfile:\n",
    "    \n",
    "    # Create a CSV reader object\n",
    "    reader = csv.DictReader(csvfile)\n",
    "\n",
    "    # Initialize a list to store the comments\n",
    "    comments = []\n",
    "\n",
    "    # Iterate over each row in the CSV file\n",
    "    for row in reader:\n",
    "    \n",
    "        # Extract the 'comments' column value and add it to the list\n",
    "        comments.append(row['comments'])\n",
    "\n",
    "# Open the output text file for writing\n",
    "with open(output_file, 'w') as txtfile:\n",
    "    \n",
    "    # Write each comment to the text file\n",
    "    for comment in comments:\n",
    "        txtfile.write(comment + '\\n')\n",
    "\n",
    "print(\"Comments extracted and saved to\", output_file)"
   ]
  }
 ],
 "metadata": {
  "kernelspec": {
   "display_name": "Python 3 (ipykernel)",
   "language": "python",
   "name": "python3"
  },
  "language_info": {
   "codemirror_mode": {
    "name": "ipython",
    "version": 3
   },
   "file_extension": ".py",
   "mimetype": "text/x-python",
   "name": "python",
   "nbconvert_exporter": "python",
   "pygments_lexer": "ipython3",
   "version": "3.11.5"
  }
 },
 "nbformat": 4,
 "nbformat_minor": 5
}
